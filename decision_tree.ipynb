{
 "metadata": {
  "language_info": {
   "codemirror_mode": {
    "name": "ipython",
    "version": 3
   },
   "file_extension": ".py",
   "mimetype": "text/x-python",
   "name": "python",
   "nbconvert_exporter": "python",
   "pygments_lexer": "ipython3",
   "version": "3.8.5"
  },
  "orig_nbformat": 2,
  "kernelspec": {
   "name": "python385jvsc74a57bd031f2aee4e71d21fbe5cf8b01ff0e069b9275f58929596ceb00d14d90e3e16cd6",
   "display_name": "Python 3.8.5 64-bit"
  },
  "metadata": {
   "interpreter": {
    "hash": "31f2aee4e71d21fbe5cf8b01ff0e069b9275f58929596ceb00d14d90e3e16cd6"
   }
  }
 },
 "nbformat": 4,
 "nbformat_minor": 2,
 "cells": [
  {
   "cell_type": "code",
   "execution_count": 46,
   "metadata": {},
   "outputs": [],
   "source": [
    "import numpy as np\n",
    "import pandas as pd\n",
    "from sklearn.tree import DecisionTreeClassifier\n",
    "from sklearn.model_selection import train_test_split"
   ]
  },
  {
   "cell_type": "code",
   "execution_count": 47,
   "metadata": {},
   "outputs": [],
   "source": [
    "origin = pd.read_csv(\"recipe_train.csv\")\n",
    "\n",
    "# label_raw = np.array(origin[\"duration_label\"]).astype(int)\n",
    "label_raw = np.subtract(np.array(origin[\"duration_label\"]).astype(int), 1)\n",
    "n_steps = pd.Series(np.array(origin[\"n_steps\"]).astype(int))\n",
    "n_ingr = pd.Series(np.array(origin[\"n_ingredients\"]).astype(int))\n",
    "\n",
    "name = pd.read_csv('recipe_text_features_doc2vec50/train_name_doc2vec50.csv', header=None)\n",
    "ingr = pd.read_csv('recipe_text_features_doc2vec50/train_ingr_doc2vec50.csv', header=None)\n",
    "steps = pd.read_csv('recipe_text_features_doc2vec50/train_steps_doc2vec50.csv', header=None)\n",
    "\n",
    "name_test = pd.read_csv('recipe_text_features_doc2vec50/test_name_doc2vec50.csv', header=None)\n",
    "ingr_test = pd.read_csv('recipe_text_features_doc2vec50/test_ingr_doc2vec50.csv', header=None)\n",
    "steps_test = pd.read_csv('recipe_text_features_doc2vec50/test_steps_doc2vec50.csv', header=None)\n",
    "\n",
    "origin_test = pd.read_csv(\"recipe_test.csv\")\n",
    "\n",
    "n_steps_test = pd.Series(np.array(origin_test[\"n_steps\"]).astype(int))\n",
    "n_ingr_test = pd.Series(np.array(origin_test[\"n_ingredients\"]).astype(int))\n",
    "\n",
    "X_test = pd.concat([name_test,ingr_test, steps_test, n_steps_test, n_ingr_test], axis=1)\n",
    "\n",
    "data = pd.concat([name,ingr, steps, n_steps, n_ingr], axis=1)\n",
    "#data = pd.concat([name, ingr, steps], axis=1)\n",
    "\n",
    "name = ingr = steps = None"
   ]
  },
  {
   "cell_type": "code",
   "execution_count": 48,
   "metadata": {},
   "outputs": [],
   "source": [
    "# X_train, X_test, y_train, y_test = train_test_split(data.to_numpy(), label_raw, test_size=0.3)\n",
    "X_train = data.to_numpy()\n",
    "y_train = label_raw\n",
    "\n",
    "classifier = DecisionTreeClassifier(criterion=\"entropy\")\n",
    "\n",
    "classifier.fit(X_train, y_train)\n",
    "\n",
    "result_vectors = classifier.predict(X_test)\n",
    "\n",
    "with open(\"result_dt.csv\", \"w\") as f:\n",
    "    f.write(\"id,duration_label\\n\")\n",
    "    for i in range(len(result_vectors)):\n",
    "        f.write(\"{},{}\\n\".format(i+1, float(result_vectors[i])+ 1)) \n",
    "\n",
    "# classifier = DecisionTreeClassifier()\n",
    "\n",
    "# classifier.fit(X_train, y_train)\n",
    "\n",
    "# print(classifier.score(X_test, y_test))"
   ]
  },
  {
   "cell_type": "code",
   "execution_count": null,
   "metadata": {},
   "outputs": [],
   "source": []
  }
 ]
}