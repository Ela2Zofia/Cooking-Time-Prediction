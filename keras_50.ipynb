{
 "metadata": {
  "language_info": {
   "codemirror_mode": {
    "name": "ipython",
    "version": 3
   },
   "file_extension": ".py",
   "mimetype": "text/x-python",
   "name": "python",
   "nbconvert_exporter": "python",
   "pygments_lexer": "ipython3",
   "version": "3.8.5"
  },
  "orig_nbformat": 2,
  "kernelspec": {
   "name": "python385jvsc74a57bd031f2aee4e71d21fbe5cf8b01ff0e069b9275f58929596ceb00d14d90e3e16cd6",
   "display_name": "Python 3.8.5 64-bit"
  },
  "metadata": {
   "interpreter": {
    "hash": "31f2aee4e71d21fbe5cf8b01ff0e069b9275f58929596ceb00d14d90e3e16cd6"
   }
  }
 },
 "nbformat": 4,
 "nbformat_minor": 2,
 "cells": [
  {
   "cell_type": "code",
   "execution_count": null,
   "metadata": {},
   "outputs": [],
   "source": [
    "import numpy as np\n",
    "import pandas as pd\n",
    "import tensorflow as tf\n",
    "from tensorflow import keras\n",
    "import matplotlib.pyplot as plt\n",
    "from sklearn.model_selection import train_test_split"
   ]
  },
  {
   "cell_type": "code",
   "execution_count": null,
   "metadata": {},
   "outputs": [],
   "source": [
    "origin = pd.read_csv(\"recipe_train.csv\")\n",
    "\n",
    "# label_raw = np.array(origin[\"duration_label\"]).astype(int)\n",
    "label_raw = np.subtract(np.array(origin[\"duration_label\"]).astype(int), 1)\n",
    "n_steps = pd.Series(np.array(origin[\"n_steps\"]).astype(int))\n",
    "n_ingr = pd.Series(np.array(origin[\"n_ingredients\"]).astype(int))\n",
    "\n",
    "name = pd.read_csv('recipe_text_features_doc2vec50/train_name_doc2vec50.csv', header=None)\n",
    "ingr = pd.read_csv('recipe_text_features_doc2vec50/train_ingr_doc2vec50.csv', header=None)\n",
    "steps = pd.read_csv('recipe_text_features_doc2vec50/train_steps_doc2vec50.csv', header=None)\n",
    "\n",
    "# data = pd.concat([name,ingr, steps, n_steps, n_ingr], axis=1)\n",
    "data = pd.concat([name, ingr, steps], axis=1)\n",
    "\n",
    "name = ingr = steps = None\n",
    "\n"
   ]
  },
  {
   "cell_type": "code",
   "execution_count": null,
   "metadata": {},
   "outputs": [],
   "source": [
    "\n",
    "\n",
    "\n",
    "# X_train, X_test, y_train, y_test = train_test_split(data.to_numpy(), label_raw, test_size=0.3)\n",
    "X_train = data.to_numpy()\n",
    "y_train = label_raw\n",
    "\n",
    "\n",
    "inputs = keras.Input(shape=(X_train.shape[1],))\n",
    "hidden = keras.layers.Dense(20, activation=\"relu\")(inputs)\n",
    "drop = keras.layers.Dropout(0.2)(hidden)\n",
    "outputs = keras.layers.Dense(3, activation=\"softmax\")(drop)\n",
    "\n",
    "model = keras.Model(inputs, outputs)\n",
    "\n",
    "model.compile(optimizer=\"adam\",\n",
    "                 loss='sparse_categorical_crossentropy', \n",
    "                 metrics=['accuracy'])\n",
    "\n",
    "history = model.fit(X_train, \n",
    "                    y_train,\n",
    "                    validation_data=(X_train,y_train),\n",
    "                    epochs=15, \n",
    "                    batch_size=300,\n",
    "                    verbose = 1)\n",
    "\n"
   ]
  },
  {
   "source": [
    "history_dict = history.history\n",
    "\n",
    "#model.save(\"doc2vec50_with_nums\")\n",
    "model.save(\"doc2vec50_without_nums\")\n"
   ],
   "cell_type": "code",
   "metadata": {},
   "execution_count": null,
   "outputs": []
  },
  {
   "cell_type": "code",
   "execution_count": null,
   "metadata": {},
   "outputs": [],
   "source": [
    "\n",
    "acc = history_dict['accuracy']\n",
    "val_acc = history_dict['val_accuracy']\n",
    "\n",
    "epochs = range(1, len(acc) + 1)\n",
    "\n",
    "plt.plot(epochs, acc, 'b', label='Training acc')\n",
    "plt.plot(epochs, val_acc, 'r', label='Validation acc')\n",
    "plt.title('Training and validation accuracy')\n",
    "plt.xlabel('Epochs')\n",
    "plt.ylabel('Accuracy')\n",
    "plt.legend(loc='lower right')\n",
    "\n",
    "plt.show()"
   ]
  }
 ]
}